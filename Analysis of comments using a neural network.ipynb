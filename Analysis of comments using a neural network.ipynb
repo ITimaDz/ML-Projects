{
 "cells": [
  {
   "cell_type": "markdown",
   "id": "c493e12d",
   "metadata": {},
   "source": [
    "# Toxic comments analysis"
   ]
  },
  {
   "cell_type": "code",
   "execution_count": 56,
   "id": "c35ce32b",
   "metadata": {},
   "outputs": [
    {
     "name": "stderr",
     "output_type": "stream",
     "text": [
      "[nltk_data] Downloading package punkt to\n",
      "[nltk_data]     C:\\Users\\Admin\\AppData\\Roaming\\nltk_data...\n",
      "[nltk_data]   Package punkt is already up-to-date!\n",
      "[nltk_data] Downloading package stopwords to\n",
      "[nltk_data]     C:\\Users\\Admin\\AppData\\Roaming\\nltk_data...\n",
      "[nltk_data]   Package stopwords is already up-to-date!\n"
     ]
    }
   ],
   "source": [
    "import pandas as pd \n",
    "from sklearn.model_selection import train_test_split\n",
    "import nltk\n",
    "import string\n",
    "from nltk.corpus import stopwords\n",
    "from nltk.tokenize import word_tokenize\n",
    "from nltk.stem import SnowballStemmer\n",
    "nltk.download('punkt')\n",
    "nltk.download('stopwords')\n",
    "from sklearn.pipeline import Pipeline\n",
    "from sklearn.linear_model import LogisticRegression\n",
    "from sklearn.feature_extraction.text import TfidfVectorizer\n",
    "from sklearn.metrics import precision_score, recall_score, precision_recall_curve\n",
    "from matplotlib import pyplot as plt\n",
    "from sklearn.metrics import plot_precision_recall_curve\n",
    "from sklearn.model_selection import GridSearchCV\n",
    "import numpy as np"
   ]
  },
  {
   "cell_type": "markdown",
   "id": "5e318a4d",
   "metadata": {},
   "source": [
    "*Russian language toxic comments dataset"
   ]
  },
  {
   "cell_type": "code",
   "execution_count": 57,
   "id": "202151a7",
   "metadata": {},
   "outputs": [],
   "source": [
    "df=pd.read_csv(r'C:\\Users\\Admin\\OneDrive\\Рабочий стол\\DataScience\\labeled.csv', sep=',')\n"
   ]
  },
  {
   "cell_type": "code",
   "execution_count": 58,
   "id": "190cc124",
   "metadata": {},
   "outputs": [
    {
     "data": {
      "text/plain": [
       "(14412, 2)"
      ]
     },
     "execution_count": 58,
     "metadata": {},
     "output_type": "execute_result"
    }
   ],
   "source": [
    "df.shape"
   ]
  },
  {
   "cell_type": "markdown",
   "id": "3eb039a7",
   "metadata": {},
   "source": [
    "There are featured 14412 rows and 2 columns"
   ]
  },
  {
   "cell_type": "code",
   "execution_count": 59,
   "id": "a90ef4de",
   "metadata": {},
   "outputs": [
    {
     "data": {
      "text/html": [
       "<div>\n",
       "<style scoped>\n",
       "    .dataframe tbody tr th:only-of-type {\n",
       "        vertical-align: middle;\n",
       "    }\n",
       "\n",
       "    .dataframe tbody tr th {\n",
       "        vertical-align: top;\n",
       "    }\n",
       "\n",
       "    .dataframe thead th {\n",
       "        text-align: right;\n",
       "    }\n",
       "</style>\n",
       "<table border=\"1\" class=\"dataframe\">\n",
       "  <thead>\n",
       "    <tr style=\"text-align: right;\">\n",
       "      <th></th>\n",
       "      <th>comment</th>\n",
       "      <th>toxic</th>\n",
       "    </tr>\n",
       "  </thead>\n",
       "  <tbody>\n",
       "    <tr>\n",
       "      <th>0</th>\n",
       "      <td>Верблюдов-то за что? Дебилы, бл...\\n</td>\n",
       "      <td>1.0</td>\n",
       "    </tr>\n",
       "    <tr>\n",
       "      <th>1</th>\n",
       "      <td>Хохлы, это отдушина затюканого россиянина, мол...</td>\n",
       "      <td>1.0</td>\n",
       "    </tr>\n",
       "    <tr>\n",
       "      <th>2</th>\n",
       "      <td>Собаке - собачья смерть\\n</td>\n",
       "      <td>1.0</td>\n",
       "    </tr>\n",
       "    <tr>\n",
       "      <th>3</th>\n",
       "      <td>Страницу обнови, дебил. Это тоже не оскорблени...</td>\n",
       "      <td>1.0</td>\n",
       "    </tr>\n",
       "    <tr>\n",
       "      <th>4</th>\n",
       "      <td>тебя не убедил 6-страничный пдф в том, что Скр...</td>\n",
       "      <td>1.0</td>\n",
       "    </tr>\n",
       "    <tr>\n",
       "      <th>5</th>\n",
       "      <td>Для каких стан является эталоном современная с...</td>\n",
       "      <td>1.0</td>\n",
       "    </tr>\n",
       "    <tr>\n",
       "      <th>6</th>\n",
       "      <td>В шапке были ссылки на инфу по текущему фильму...</td>\n",
       "      <td>0.0</td>\n",
       "    </tr>\n",
       "    <tr>\n",
       "      <th>7</th>\n",
       "      <td>УПАД Т! ТАМ НЕЛЬЗЯ СТРОИТЬ! ТЕХНОЛОГИЙ НЕТ! РА...</td>\n",
       "      <td>1.0</td>\n",
       "    </tr>\n",
       "    <tr>\n",
       "      <th>8</th>\n",
       "      <td>Ебать тебя разносит, шизик.\\n</td>\n",
       "      <td>1.0</td>\n",
       "    </tr>\n",
       "    <tr>\n",
       "      <th>9</th>\n",
       "      <td>Обосрался, сиди обтекай\\n</td>\n",
       "      <td>1.0</td>\n",
       "    </tr>\n",
       "  </tbody>\n",
       "</table>\n",
       "</div>"
      ],
      "text/plain": [
       "                                             comment  toxic\n",
       "0               Верблюдов-то за что? Дебилы, бл...\\n    1.0\n",
       "1  Хохлы, это отдушина затюканого россиянина, мол...    1.0\n",
       "2                          Собаке - собачья смерть\\n    1.0\n",
       "3  Страницу обнови, дебил. Это тоже не оскорблени...    1.0\n",
       "4  тебя не убедил 6-страничный пдф в том, что Скр...    1.0\n",
       "5  Для каких стан является эталоном современная с...    1.0\n",
       "6  В шапке были ссылки на инфу по текущему фильму...    0.0\n",
       "7  УПАД Т! ТАМ НЕЛЬЗЯ СТРОИТЬ! ТЕХНОЛОГИЙ НЕТ! РА...    1.0\n",
       "8                      Ебать тебя разносит, шизик.\\n    1.0\n",
       "9                          Обосрался, сиди обтекай\\n    1.0"
      ]
     },
     "execution_count": 59,
     "metadata": {},
     "output_type": "execute_result"
    }
   ],
   "source": [
    "df.head(10)"
   ]
  },
  {
   "cell_type": "markdown",
   "id": "f3274af1",
   "metadata": {},
   "source": [
    "Now it will be inverted into integer type"
   ]
  },
  {
   "cell_type": "code",
   "execution_count": 60,
   "id": "2fd7e81a",
   "metadata": {},
   "outputs": [],
   "source": [
    "df['toxic'] = df['toxic'].apply(int)"
   ]
  },
  {
   "cell_type": "code",
   "execution_count": 61,
   "id": "d38270e1",
   "metadata": {},
   "outputs": [
    {
     "data": {
      "text/html": [
       "<div>\n",
       "<style scoped>\n",
       "    .dataframe tbody tr th:only-of-type {\n",
       "        vertical-align: middle;\n",
       "    }\n",
       "\n",
       "    .dataframe tbody tr th {\n",
       "        vertical-align: top;\n",
       "    }\n",
       "\n",
       "    .dataframe thead th {\n",
       "        text-align: right;\n",
       "    }\n",
       "</style>\n",
       "<table border=\"1\" class=\"dataframe\">\n",
       "  <thead>\n",
       "    <tr style=\"text-align: right;\">\n",
       "      <th></th>\n",
       "      <th>comment</th>\n",
       "      <th>toxic</th>\n",
       "    </tr>\n",
       "  </thead>\n",
       "  <tbody>\n",
       "    <tr>\n",
       "      <th>0</th>\n",
       "      <td>Верблюдов-то за что? Дебилы, бл...\\n</td>\n",
       "      <td>1</td>\n",
       "    </tr>\n",
       "    <tr>\n",
       "      <th>1</th>\n",
       "      <td>Хохлы, это отдушина затюканого россиянина, мол...</td>\n",
       "      <td>1</td>\n",
       "    </tr>\n",
       "    <tr>\n",
       "      <th>2</th>\n",
       "      <td>Собаке - собачья смерть\\n</td>\n",
       "      <td>1</td>\n",
       "    </tr>\n",
       "    <tr>\n",
       "      <th>3</th>\n",
       "      <td>Страницу обнови, дебил. Это тоже не оскорблени...</td>\n",
       "      <td>1</td>\n",
       "    </tr>\n",
       "    <tr>\n",
       "      <th>4</th>\n",
       "      <td>тебя не убедил 6-страничный пдф в том, что Скр...</td>\n",
       "      <td>1</td>\n",
       "    </tr>\n",
       "  </tbody>\n",
       "</table>\n",
       "</div>"
      ],
      "text/plain": [
       "                                             comment  toxic\n",
       "0               Верблюдов-то за что? Дебилы, бл...\\n      1\n",
       "1  Хохлы, это отдушина затюканого россиянина, мол...      1\n",
       "2                          Собаке - собачья смерть\\n      1\n",
       "3  Страницу обнови, дебил. Это тоже не оскорблени...      1\n",
       "4  тебя не убедил 6-страничный пдф в том, что Скр...      1"
      ]
     },
     "execution_count": 61,
     "metadata": {},
     "output_type": "execute_result"
    }
   ],
   "source": [
    "df.head(5)"
   ]
  },
  {
   "cell_type": "code",
   "execution_count": 62,
   "id": "85ca22ce",
   "metadata": {},
   "outputs": [
    {
     "data": {
      "text/plain": [
       "0    9586\n",
       "1    4826\n",
       "Name: toxic, dtype: int64"
      ]
     },
     "execution_count": 62,
     "metadata": {},
     "output_type": "execute_result"
    }
   ],
   "source": [
    "df['toxic'].value_counts()"
   ]
  },
  {
   "cell_type": "markdown",
   "id": "19773451",
   "metadata": {},
   "source": [
    "Here we can see that normal comments exceed toxic ones"
   ]
  },
  {
   "cell_type": "markdown",
   "id": "5667ac39",
   "metadata": {},
   "source": [
    "see data markup quality"
   ]
  },
  {
   "cell_type": "code",
   "execution_count": 63,
   "id": "0af60a3a",
   "metadata": {},
   "outputs": [
    {
     "name": "stdout",
     "output_type": "stream",
     "text": [
      "Верблюдов-то за что? Дебилы, бл...\n",
      "\n",
      "Хохлы, это отдушина затюканого россиянина, мол, вон, а у хохлов еще хуже. Если бы хохлов не было, кисель их бы придумал.\n",
      "\n",
      "Собаке - собачья смерть\n",
      "\n",
      "Страницу обнови, дебил. Это тоже не оскорбление, а доказанный факт - не-дебил про себя во множественном числе писать не будет. Или мы в тебя верим - это ты и твои воображаемые друзья?\n",
      "\n",
      "тебя не убедил 6-страничный пдф в том, что Скрипалей отравила Россия? Анализировать и думать пытаешься? Ватник что ли?)\n",
      "\n"
     ]
    }
   ],
   "source": [
    "for c in df[df[\"toxic\"] == 1][\"comment\"].head(5):\n",
    "    print(c)"
   ]
  },
  {
   "cell_type": "markdown",
   "id": "b51f71d8",
   "metadata": {},
   "source": [
    "There are presented negative comments"
   ]
  },
  {
   "cell_type": "code",
   "execution_count": 64,
   "id": "7336279b",
   "metadata": {},
   "outputs": [
    {
     "name": "stdout",
     "output_type": "stream",
     "text": [
      "В шапке были ссылки на инфу по текущему фильму марвел. Эти ссылки были заменены на фразу Репортим брипидора, игнорируем его посты. Если этого недостаточно, чтобы понять, что модератор абсолютный неадекват, и его нужно лишить полномочий, тогда эта борда пробивает абсолютное дно по неадекватности.\n",
      "\n",
      "Почитайте посты у этого автора,может найдете что нибудь полезное. Надеюсь помог) https: pikabu.ru story obyichnyie budni dezsluzhbyi 4932098\n",
      "\n",
      "Про графику было обидно) я так то проходил все серии гта со второй части по пятую, кроме гта 4. И мне не мешала графика ни в одной из частей. На компе у меня было куча видеокарт. Начиная с 32мб RIVA TNT и заканчивая 2Гб 560Ti на которой я спокойно играю который год в танки, гта5, ведьмака3 купил на распродаже и начал проходить. Да, не на ультрах. С пониженными текстурами. И не мешает. Я не понимаю дрочева на графике, требовать графику уровня плойки 4 минимум. Мне надо чтобы глаза не резало, только и всего. По поводу управления, мне не хватает переходника на type c. У меня джойстик есть от иксбокса360. Потенциала в мобильных играх достаточно чтобы забить кнопки как забивались в той же NFS MW в 2005. Не самая плохая игра была.\n",
      "\n",
      "https: pp.userapi.com c848520 v848520411 11627b cOhWqFbGjWE.jpg\n",
      "\n",
      "Возьмём как пример Россию, западноевропейские страны и США. Идёт метисация, сознательная политика замещения белого населения на пришлое черно-коричневое. Идёт создание новой расы метисов, исламизация и почернение. В крупных городах половина населения - выходцы из ебеней Мексики, Африки, Ближнего Востока, а в случае с Россией - Кавказа и Средней Азии. Этнические ниггеро-арабские гетто верят на хую законы как хотят, чудовищная по масштабам этническая преступность. Говорить о миграции и тем более затрагивать тему замещения коренного населения властями нельзя, иначе бутылка. Свобода слова тут не для вас, молодой человек. При этом говорить о том, что белые должны вымереть, и это нормально - можно. Белые официально вымирают ведётся пропаганда так или иначе направленная на снижение рождаемости белого населения. Феминизм, ЛГБТ, чайлдфри. Каждая женщина в Швеции - леволиберальная феминистка, это страна победившего феминизма. Что сегодня там происходит - страшно делается. Пропагандируются смешанные браки, межрасовые браки, пропагандируется превосходство детей-метисов. Идёт демонизация белых и пропаганда превосходства чёрных и смуглых мужчин, форс отношений белая женщина смуглый чёрный мужчина-мигрант. Как результат - всё больше чернильниц, всё больше смешанных браков, всё больше небелых метисов. Белые женщины просто не хотят контактировать с мужчинами своей нации и расы, наделяя их самыми плохими качествами и обожествляя черных. При этом большинство белых не считает завоз чурок чем-то плохим, наоборот, относятся к ним толерантно. Проводится политика насаждения толерантности, мультикультурализма, политкорректности и космополитизма. Набирающее популярность даже в России SJW - это вообще отдельная тема для обсуждения. Всё вышеперечисленное относится к сильнейшим когда-то странам, бывшим империям, нагибающим слабых. Сегодня происходит так, что бывшие империи в прямом смысле деградируют, вырождаются и вымирают, а место сильнейших когда-то, господствующих народов, занимают те, кого когда-то колонизировали. Во Франции к 2080 уже будут доминировать негры и арабы, в России - кавказцы и выходцы из средней Азии, в Великобритании - индийцы, негры, арабы, пакистанцы, etc. А в маленьких, нейтральных странах, вроде Словении или Беларуси, Литвы или Чехии, Румынии или Эстонии - всё пучком. Им вымирание не грозит, они остаются и будут оставаться белыми. Более того, у них ведётся политика, направленная на сохранение традиционных ценностей и культуры коренного населения. Они сказали беженцам нет . В Польшу, например, русскому или украинцу гораздо легче переехать и остаться, чем арабу или африканцу. В Германии ситуация противоположная, белых там не ждут. Польша, Чехия, Словакия, Венгрия, Словения, Хорватия, Сербия, БиГ, Черногория, Македония, Греция, Болгария, Румыния, Молдова, Украина, Беларусь, Литва, Латвия, Эстония - вот Европа будущего. Скандинавия, Южная, Западная Европа, а также Россия - лишатся коренного населения и своей культуры.\n",
      "\n"
     ]
    }
   ],
   "source": [
    "for c in df[df['toxic'] == 0]['comment'].head(5):\n",
    "    print(c)"
   ]
  },
  {
   "cell_type": "markdown",
   "id": "e41dec0d",
   "metadata": {},
   "source": [
    "As we can see here that there are neutral comments however some websites links were deemed as normal comments.  "
   ]
  },
  {
   "cell_type": "markdown",
   "id": "004e5e6e",
   "metadata": {},
   "source": [
    "Let's take approximately 500 samples for data analysis "
   ]
  },
  {
   "cell_type": "code",
   "execution_count": 65,
   "id": "cc65403a",
   "metadata": {},
   "outputs": [],
   "source": [
    "train_df, test_df = train_test_split(df,test_size = 500)"
   ]
  },
  {
   "cell_type": "code",
   "execution_count": 66,
   "id": "e5c12658",
   "metadata": {},
   "outputs": [
    {
     "data": {
      "text/plain": [
       "(500, 2)"
      ]
     },
     "execution_count": 66,
     "metadata": {},
     "output_type": "execute_result"
    }
   ],
   "source": [
    "test_df.shape"
   ]
  },
  {
   "cell_type": "code",
   "execution_count": 67,
   "id": "2fa55f51",
   "metadata": {},
   "outputs": [
    {
     "data": {
      "text/plain": [
       "0    332\n",
       "1    168\n",
       "Name: toxic, dtype: int64"
      ]
     },
     "execution_count": 67,
     "metadata": {},
     "output_type": "execute_result"
    }
   ],
   "source": [
    "test_df['toxic'].value_counts()"
   ]
  },
  {
   "cell_type": "code",
   "execution_count": 68,
   "id": "61b08846",
   "metadata": {},
   "outputs": [
    {
     "data": {
      "text/plain": [
       "0    9254\n",
       "1    4658\n",
       "Name: toxic, dtype: int64"
      ]
     },
     "execution_count": 68,
     "metadata": {},
     "output_type": "execute_result"
    }
   ],
   "source": [
    "train_df['toxic'].value_counts()"
   ]
  },
  {
   "cell_type": "markdown",
   "id": "4c7796f4",
   "metadata": {},
   "source": [
    "Now we are ready to prepare our data for analysis:\n",
    "1)First of all, we will split the text into tokens\n",
    "2)Secondly, we will delete words that don't carry semantic load\n",
    "3)Finally, do the 'stemming' of words. The stemming process is deleting endings of words and to lead them to lower case."
   ]
  },
  {
   "cell_type": "code",
   "execution_count": 70,
   "id": "a8d93b5b",
   "metadata": {},
   "outputs": [],
   "source": [
    "sentence_example =df.iloc[1]['comment']\n",
    "tokens = word_tokenize(sentence_example, language='russian')\n",
    "tokens_without_punctuation=[i for i in tokens if i not in string.punctuation]\n",
    "russian_stop_words = stopwords.words('russian')\n",
    "tokens_without_stop_words_and_punctuation = [i for i in tokens_without_punctuation if i not in russian_stop_words]\n",
    "snowball = SnowballStemmer(language = 'russian')\n",
    "stemmed_tokens = [snowball.stem(i) for i in tokens_without_stop_words_and_punctuation]\n"
   ]
  },
  {
   "cell_type": "code",
   "execution_count": 71,
   "id": "9cc45464",
   "metadata": {},
   "outputs": [
    {
     "name": "stdout",
     "output_type": "stream",
     "text": [
      "Original text:Хохлы, это отдушина затюканого россиянина, мол, вон, а у хохлов еще хуже. Если бы хохлов не было, кисель их бы придумал.\n",
      "\n",
      "Tokens:['Хохлы', ',', 'это', 'отдушина', 'затюканого', 'россиянина', ',', 'мол', ',', 'вон', ',', 'а', 'у', 'хохлов', 'еще', 'хуже', '.', 'Если', 'бы', 'хохлов', 'не', 'было', ',', 'кисель', 'их', 'бы', 'придумал', '.']\n",
      "Tokens_without_punctuation:['Хохлы', 'это', 'отдушина', 'затюканого', 'россиянина', 'мол', 'вон', 'а', 'у', 'хохлов', 'еще', 'хуже', 'Если', 'бы', 'хохлов', 'не', 'было', 'кисель', 'их', 'бы', 'придумал']\n",
      "Tokens_without_stop_words_and_punctuation:['Хохлы', 'это', 'отдушина', 'затюканого', 'россиянина', 'мол', 'вон', 'хохлов', 'хуже', 'Если', 'хохлов', 'кисель', 'придумал']\n",
      "Stemmed_tokens:['хохл', 'эт', 'отдушин', 'затюкан', 'россиянин', 'мол', 'вон', 'хохл', 'хуж', 'есл', 'хохл', 'кисел', 'придума']\n"
     ]
    }
   ],
   "source": [
    "print(f'Original text:{sentence_example}')\n",
    "print(f'Tokens:{tokens}')\n",
    "print(f'Tokens_without_punctuation:{tokens_without_punctuation}')\n",
    "print(f'Tokens_without_stop_words_and_punctuation:{tokens_without_stop_words_and_punctuation}')\n",
    "print(f'Stemmed_tokens:{stemmed_tokens}')\n",
    "      "
   ]
  },
  {
   "cell_type": "markdown",
   "id": "0cc72e9d",
   "metadata": {},
   "source": [
    "Now we are creating a function  for every single comment in our dataset testing  "
   ]
  },
  {
   "cell_type": "code",
   "execution_count": 75,
   "id": "18c42476",
   "metadata": {},
   "outputs": [],
   "source": [
    "snowball = SnowballStemmer(language='russian')\n",
    "russian_stop_words = stopwords.words('russian')\n",
    "\n",
    "def tokenize_sentence(sentence:str, remove_stop_words: bool = True):\n",
    "    tokens = word_tokenize(sentence, language = 'russian')\n",
    "    tokens = [i for i in tokens if i not in string.punctuation]\n",
    "    if remove_stop_words:\n",
    "        tokens = [i for i in tokens if i not in russian_stop_words]\n",
    "    tokens = [snowball.stem(i) for i in tokens]\n",
    "    return tokens"
   ]
  },
  {
   "cell_type": "markdown",
   "id": "e74a31e5",
   "metadata": {},
   "source": [
    "Create a vectorizer"
   ]
  },
  {
   "cell_type": "code",
   "execution_count": 76,
   "id": "fbf04c29",
   "metadata": {},
   "outputs": [],
   "source": [
    "vectorizer = TfidfVectorizer(tokenizer = lambda x: tokenize_sentence(x, remove_stop_words = True))"
   ]
  },
  {
   "cell_type": "markdown",
   "id": "ec1ee05f",
   "metadata": {},
   "source": [
    "Let's train the created vectorizer"
   ]
  },
  {
   "cell_type": "code",
   "execution_count": 77,
   "id": "03e3b8d9",
   "metadata": {},
   "outputs": [],
   "source": [
    "features = vectorizer.fit_transform(train_df['comment'])"
   ]
  },
  {
   "cell_type": "markdown",
   "id": "1bcc98c6",
   "metadata": {},
   "source": [
    "The model is ready and it is high time to train a logistic regression "
   ]
  },
  {
   "cell_type": "code",
   "execution_count": 78,
   "id": "b9cccbb3",
   "metadata": {},
   "outputs": [
    {
     "data": {
      "text/plain": [
       "LogisticRegression(random_state=0)"
      ]
     },
     "execution_count": 78,
     "metadata": {},
     "output_type": "execute_result"
    }
   ],
   "source": [
    "model = LogisticRegression(random_state = 0)\n",
    "model.fit(features, train_df['toxic'])"
   ]
  },
  {
   "cell_type": "markdown",
   "id": "fabd3b62",
   "metadata": {},
   "source": [
    "The model has been trained. Let's check this out!"
   ]
  },
  {
   "cell_type": "code",
   "execution_count": 79,
   "id": "e7a8ac56",
   "metadata": {},
   "outputs": [
    {
     "data": {
      "text/plain": [
       "'это что за система такая ультимативная?)\\n'"
      ]
     },
     "execution_count": 79,
     "metadata": {},
     "output_type": "execute_result"
    }
   ],
   "source": [
    "model.predict(features[0])\n",
    "train_df['comment'].iloc[0]"
   ]
  },
  {
   "cell_type": "markdown",
   "id": "0d99756f",
   "metadata": {},
   "source": [
    "However, it is inconvenient to use the model I presented above. There is 'Pipeline' that allows merging 'features' and 'model' together."
   ]
  },
  {
   "cell_type": "code",
   "execution_count": 86,
   "id": "5613bd6e",
   "metadata": {},
   "outputs": [],
   "source": [
    "model_pipeline = Pipeline([('vectorizer', TfidfVectorizer(tokenizer=lambda x: tokenize_sentence(x, remove_stop_words=True))), \\\n",
    "                          ('model', LogisticRegression(random_state=0))])\n"
   ]
  },
  {
   "cell_type": "code",
   "execution_count": 87,
   "id": "6221af01",
   "metadata": {},
   "outputs": [
    {
     "data": {
      "text/plain": [
       "Pipeline(steps=[('vectorizer',\n",
       "                 TfidfVectorizer(tokenizer=<function <lambda> at 0x000002A078CCC160>)),\n",
       "                ('model', LogisticRegression(random_state=0))])"
      ]
     },
     "execution_count": 87,
     "metadata": {},
     "output_type": "execute_result"
    }
   ],
   "source": [
    "model_pipeline.fit(train_df['comment'], train_df['toxic'])"
   ]
  },
  {
   "cell_type": "markdown",
   "id": "0f3faae7",
   "metadata": {},
   "source": [
    "Our new model is ready for employment! Let's try it out "
   ]
  },
  {
   "cell_type": "code",
   "execution_count": 88,
   "id": "40e3a843",
   "metadata": {},
   "outputs": [
    {
     "data": {
      "text/plain": [
       "array([0], dtype=int64)"
      ]
     },
     "execution_count": 88,
     "metadata": {},
     "output_type": "execute_result"
    }
   ],
   "source": [
    "model_pipeline.predict(['Я люблю Чехию!'])"
   ]
  },
  {
   "cell_type": "markdown",
   "id": "a048a710",
   "metadata": {},
   "source": [
    "I have just written that 'I love Czech Republic' and model responded me that it is a positive comment.\n"
   ]
  },
  {
   "cell_type": "markdown",
   "id": "a0b921ae",
   "metadata": {},
   "source": [
    "Let's try to write a negative comment to the model!"
   ]
  },
  {
   "cell_type": "code",
   "execution_count": 89,
   "id": "9848ff7e",
   "metadata": {},
   "outputs": [
    {
     "data": {
      "text/plain": [
       "array([1], dtype=int64)"
      ]
     },
     "execution_count": 89,
     "metadata": {},
     "output_type": "execute_result"
    }
   ],
   "source": [
    "model_pipeline.predict(['Пусть все кошки в Чехии здохнут к чертовой бабушке!'])"
   ]
  },
  {
   "cell_type": "markdown",
   "id": "8006f2e5",
   "metadata": {},
   "source": [
    "I have just written abovethat 'Let all the cats in the Czech Republic die to hell!'"
   ]
  },
  {
   "cell_type": "markdown",
   "id": "eaab34ea",
   "metadata": {},
   "source": [
    "As we can observe that the model immediately reacted and defined it as a negative comment"
   ]
  },
  {
   "cell_type": "markdown",
   "id": "dd80cb5e",
   "metadata": {},
   "source": [
    "But it is highly important to determine the quality of the model. Two important indicators are 'precision' and 'recall'"
   ]
  },
  {
   "cell_type": "code",
   "execution_count": 91,
   "id": "6b5efb72",
   "metadata": {},
   "outputs": [
    {
     "data": {
      "text/plain": [
       "0.9007633587786259"
      ]
     },
     "execution_count": 91,
     "metadata": {},
     "output_type": "execute_result"
    }
   ],
   "source": [
    "precision_score(y_true = test_df['toxic'], y_pred = model_pipeline.predict(test_df['comment']))"
   ]
  },
  {
   "cell_type": "code",
   "execution_count": 92,
   "id": "1889bbd0",
   "metadata": {},
   "outputs": [
    {
     "data": {
      "text/plain": [
       "0.7023809523809523"
      ]
     },
     "execution_count": 92,
     "metadata": {},
     "output_type": "execute_result"
    }
   ],
   "source": [
    "recall_score(y_true = test_df['toxic'], y_pred = model_pipeline.predict(test_df['comment']))"
   ]
  },
  {
   "cell_type": "markdown",
   "id": "eaa60cf2",
   "metadata": {},
   "source": [
    "*We have just got results of both 'precision' and 'recall': 0,90 and 0.70. We must get a model where the precision will be at least 0,95.\n",
    "*The model gets back 'possibility' and afterward it compares 'possibility' with 'thresholds'. If 'possibility' is higher than 'thresholds' it will get back 1 and vice versa 0.\n",
    "*Changing 'threshold' we are able to improve 'precision' and 'recall'"
   ]
  },
  {
   "cell_type": "code",
   "execution_count": 97,
   "id": "0d92b82e",
   "metadata": {},
   "outputs": [],
   "source": [
    "prec, rec, thresholds = precision_recall_curve(y_true = test_df['toxic'], probas_pred=model_pipeline.predict_proba(test_df['comment'])[:,1])"
   ]
  },
  {
   "cell_type": "code",
   "execution_count": 98,
   "id": "dff0750d",
   "metadata": {},
   "outputs": [
    {
     "data": {
      "text/plain": [
       "<sklearn.metrics._plot.precision_recall_curve.PrecisionRecallDisplay at 0x2a07bb64580>"
      ]
     },
     "execution_count": 98,
     "metadata": {},
     "output_type": "execute_result"
    },
    {
     "data": {
      "image/png": "[encoded data removed]",
      "text/plain": [
       "<Figure size 432x288 with 1 Axes>"
      ]
     },
     "metadata": {
      "needs_background": "light"
     },
     "output_type": "display_data"
    }
   ],
   "source": [
    "plot_precision_recall_curve(estimator=model_pipeline, X = test_df['comment'], y=test_df['toxic'])"
   ]
  },
  {
   "cell_type": "markdown",
   "id": "7237c68d",
   "metadata": {},
   "source": [
    "Let's find a 'precision' more than 0,95"
   ]
  },
  {
   "cell_type": "code",
   "execution_count": 100,
   "id": "512761ed",
   "metadata": {},
   "outputs": [
    {
     "data": {
      "text/plain": [
       "(array([389, 390, 391, 392, 400, 401, 402, 403, 404, 405, 406, 407, 408,\n",
       "        409, 410, 411, 412, 413, 414, 415, 416, 417, 418, 419, 420, 421,\n",
       "        422, 423, 424, 425, 426, 427, 428, 429, 430, 431, 432, 439, 440,\n",
       "        441, 442, 443, 444, 445, 446, 447, 448, 449, 450, 451, 452, 453],\n",
       "       dtype=int64),)"
      ]
     },
     "execution_count": 100,
     "metadata": {},
     "output_type": "execute_result"
    }
   ],
   "source": [
    "np.where(prec > 0.95)"
   ]
  },
  {
   "cell_type": "code",
   "execution_count": 101,
   "id": "70d35f10",
   "metadata": {},
   "outputs": [
    {
     "data": {
      "text/plain": [
       "0.7299368023550374"
      ]
     },
     "execution_count": 101,
     "metadata": {},
     "output_type": "execute_result"
    }
   ],
   "source": [
    "thresholds[389]"
   ]
  },
  {
   "cell_type": "markdown",
   "id": "399538e6",
   "metadata": {},
   "source": [
    "Let's call precision with this threshold (389)"
   ]
  },
  {
   "cell_type": "code",
   "execution_count": 102,
   "id": "235ae768",
   "metadata": {},
   "outputs": [
    {
     "data": {
      "text/plain": [
       "0.9523809523809523"
      ]
     },
     "execution_count": 102,
     "metadata": {},
     "output_type": "execute_result"
    }
   ],
   "source": [
    "precision_score(y_true = test_df['toxic'], y_pred = model_pipeline.predict_proba(test_df['comment'])[:, 1] > thresholds[389])"
   ]
  },
  {
   "cell_type": "markdown",
   "id": "4a8c4729",
   "metadata": {},
   "source": [
    "That is what we needed for precision !"
   ]
  },
  {
   "cell_type": "code",
   "execution_count": 103,
   "id": "d2242a45",
   "metadata": {},
   "outputs": [
    {
     "data": {
      "text/plain": [
       "0.35714285714285715"
      ]
     },
     "execution_count": 103,
     "metadata": {},
     "output_type": "execute_result"
    }
   ],
   "source": [
    "recall_score(y_true = test_df['toxic'], y_pred = model_pipeline.predict_proba(test_df['comment'])[:, 1] > thresholds[389])"
   ]
  },
  {
   "cell_type": "markdown",
   "id": "75cec070",
   "metadata": {},
   "source": [
    "'Recall' became lower what it means that we are able to improve our model much better."
   ]
  },
  {
   "cell_type": "markdown",
   "id": "8b88d398",
   "metadata": {},
   "source": [
    "Let's make our model much smarter by means of increasing regularization factor up to 10 (according to documentation)"
   ]
  },
  {
   "cell_type": "code",
   "execution_count": 110,
   "id": "aa1a3738",
   "metadata": {},
   "outputs": [],
   "source": [
    "model_pipeline_c10 = Pipeline([\n",
    "    ('vectorizer', TfidfVectorizer(tokenizer=lambda x:tokenize_sentence(x, remove_stop_words=True))),\n",
    "    ('model',LogisticRegression(random_state=0, C=10.))\n",
    "]\n",
    ")"
   ]
  },
  {
   "cell_type": "code",
   "execution_count": 111,
   "id": "46e8796e",
   "metadata": {},
   "outputs": [
    {
     "name": "stderr",
     "output_type": "stream",
     "text": [
      "C:\\Users\\Admin\\anaconda3\\lib\\site-packages\\sklearn\\linear_model\\_logistic.py:763: ConvergenceWarning: lbfgs failed to converge (status=1):\n",
      "STOP: TOTAL NO. of ITERATIONS REACHED LIMIT.\n",
      "\n",
      "Increase the number of iterations (max_iter) or scale the data as shown in:\n",
      "    https://scikit-learn.org/stable/modules/preprocessing.html\n",
      "Please also refer to the documentation for alternative solver options:\n",
      "    https://scikit-learn.org/stable/modules/linear_model.html#logistic-regression\n",
      "  n_iter_i = _check_optimize_result(\n"
     ]
    },
    {
     "data": {
      "text/plain": [
       "Pipeline(steps=[('vectorizer',\n",
       "                 TfidfVectorizer(tokenizer=<function <lambda> at 0x000002A078CCCDC0>)),\n",
       "                ('model', LogisticRegression(C=10.0, random_state=0))])"
      ]
     },
     "execution_count": 111,
     "metadata": {},
     "output_type": "execute_result"
    }
   ],
   "source": [
    "model_pipeline_c10.fit(train_df['comment'], train_df['toxic'])"
   ]
  },
  {
   "cell_type": "code",
   "execution_count": 112,
   "id": "3f534302",
   "metadata": {},
   "outputs": [],
   "source": [
    "prec_c10, rec_c10, thresholds_c10 = precision_recall_curve(y_true = test_df['toxic'], probas_pred=model_pipeline_c10.predict_proba(test_df['comment'])[:,1])"
   ]
  },
  {
   "cell_type": "code",
   "execution_count": 113,
   "id": "78cfefc9",
   "metadata": {},
   "outputs": [
    {
     "data": {
      "text/plain": [
       "(array([414, 415, 416, 435, 436, 460, 461, 462, 463, 464, 465, 466, 467,\n",
       "        468, 469, 470, 471, 472, 473, 474, 475, 476, 477], dtype=int64),)"
      ]
     },
     "execution_count": 113,
     "metadata": {},
     "output_type": "execute_result"
    }
   ],
   "source": [
    "np.where(prec_c10 > 0.95)"
   ]
  },
  {
   "cell_type": "code",
   "execution_count": 115,
   "id": "fd0505ed",
   "metadata": {},
   "outputs": [
    {
     "data": {
      "text/plain": [
       "0.9516129032258065"
      ]
     },
     "execution_count": 115,
     "metadata": {},
     "output_type": "execute_result"
    }
   ],
   "source": [
    "precision_score(y_true = test_df['toxic'], y_pred = model_pipeline_c10.predict_proba(test_df['comment'])[:, 1] > thresholds_c10[414])"
   ]
  },
  {
   "cell_type": "code",
   "execution_count": 116,
   "id": "718c91bc",
   "metadata": {},
   "outputs": [
    {
     "data": {
      "text/plain": [
       "0.35119047619047616"
      ]
     },
     "execution_count": 116,
     "metadata": {},
     "output_type": "execute_result"
    }
   ],
   "source": [
    "recall_score(y_true = test_df['toxic'], y_pred = model_pipeline_c10.predict_proba(test_df['comment'])[:, 1] > thresholds_c10[414])"
   ]
  },
  {
   "cell_type": "markdown",
   "id": "aff0f9ce",
   "metadata": {},
   "source": [
    "To sum it up. We came off to increase 'precision' from 0.90 up to 0.95 and we decreased recall score from 70 up to 35. We sacrificed 'recall' in favor of 'precision'.  "
   ]
  },
  {
   "cell_type": "code",
   "execution_count": null,
   "id": "f1cc2c36",
   "metadata": {},
   "outputs": [],
   "source": []
  }
 ],
 "metadata": {
  "kernelspec": {
   "display_name": "Python 3",
   "language": "python",
   "name": "python3"
  },
  "language_info": {
   "codemirror_mode": {
    "name": "ipython",
    "version": 3
   },
   "file_extension": ".py",
   "mimetype": "text/x-python",
   "name": "python",
   "nbconvert_exporter": "python",
   "pygments_lexer": "ipython3",
   "version": "3.8.8"
  }
 },
 "nbformat": 4,
 "nbformat_minor": 5
}
